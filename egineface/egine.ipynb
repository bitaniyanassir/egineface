{
 "cells": [
  {
   "cell_type": "code",
   "execution_count": 4,
   "metadata": {},
   "outputs": [],
   "source": [
    "import os\n",
    "import glob\n",
    "import cv2\n",
    "import numpy as np\n",
    "from PIL import Image\n",
    "from sklearn.decomposition import PCA\n",
    "from sklearn.preprocessing import LabelEncoder\n",
    "from sklearn.model_selection import train_test_split\n",
    "from sklearn.discriminant_analysis import LinearDiscriminantAnalysis as LDA\n",
    "\n",
    "# Define the main folder path where the dataset is located\n",
    "dataset = \"untitled folder/images\"\n",
    "\n",
    "# Iterate over each letter in the main folder and create subfolders for processed images\n",
    "for image in os.listdir(dataset):\n",
    "    os.makedirs(os.path.join(dataset, \"processed\", image), exist_ok=True)\n",
    "\n",
    "# Read each image, resize it to 150x150 pixels, convert it to grayscale, \n",
    "# and save the processed image to the corresponding subfolder\n",
    "for image_folder in glob.glob(os.path.join(dataset, \"*\")):\n",
    "    image = os.path.basename(image_folder)\n",
    "    image_paths = glob.glob(os.path.join(image_folder, \"*.jpg\")) + glob.glob(os.path.join(image_folder, \"*.png\"))\n",
    "    for image_path in image_paths:\n",
    "        imag = cv2.imread(image_path)\n",
    "        resized_image = cv2.resize(imag, (150, 150))\n",
    "        gray_image = cv2.cvtColor(resized_image, cv2.COLOR_BGR2GRAY)\n",
    "        cv2.imwrite(os.path.join(dataset, \"processed\", image, os.path.basename(image_path)), gray_image)"
   ]
  },
  {
   "cell_type": "code",
   "execution_count": 5,
   "metadata": {},
   "outputs": [
    {
     "name": "stdout",
     "output_type": "stream",
     "text": [
      "Loaded image: untitled folder/images/processed/bitaniya/image1.jpg\n",
      "Loaded image: untitled folder/images/processed/bitaniya/image2.jpg\n",
      "Loaded image: untitled folder/images/processed/bitaniya/image3.jpg\n",
      "Loaded image: untitled folder/images/processed/bitaniya/image4.jpg\n",
      "Loaded image: untitled folder/images/processed/bitaniya/image5.jpg\n",
      "Loaded image: untitled folder/images/processed/bitaniya/image6.jpg\n",
      "Loaded image: untitled folder/images/processed/bitaniya/image7.jpg\n",
      "Loaded image: untitled folder/images/processed/bitaniya/image8.jpg\n",
      "Loaded image: untitled folder/images/processed/bitaniya/image9.jpg\n",
      "Loaded image: untitled folder/images/processed/bitaniya/image10.jpg\n"
     ]
    }
   ],
   "source": [
    "# Assuming you have 10 images of a person in your dataset\n",
    "\n",
    "# Load the images and convert them to grayscale\n",
    "images = []\n",
    "labels = []\n",
    "for i in range(10):\n",
    "    image_path = f\"untitled folder/images/processed/bitaniya/image{i+1}.jpg\"\n",
    "    try:\n",
    "        image = Image.open(image_path).convert(\"L\")  # Convert to grayscale\n",
    "        images.append(np.array(image))\n",
    "        labels.append(\"person\")\n",
    "        print(f\"Loaded image: {image_path}\")\n",
    "    except Exception as e:\n",
    "        print(f\"Error loading image: {image_path}\")\n",
    "        print(str(e))\n",
    "\n",
    "# Convert the images and labels to NumPy arrays\n",
    "images = np.array(images)\n",
    "labels = np.array(labels)\n",
    "\n",
    "# Flatten the images\n",
    "num_images, height, width = images.shape\n",
    "flattened_images = images.reshape(num_images, height * width)\n",
    "\n",
    "# Encode the labels\n",
    "label_encoder = LabelEncoder()\n",
    "encoded_labels = label_encoder.fit_transform(labels)"
   ]
  },
  {
   "cell_type": "code",
   "execution_count": 6,
   "metadata": {},
   "outputs": [],
   "source": [
    "# Prepare the Dataset\n",
    "face_images = []\n",
    "for image in images:\n",
    "    image_array = np.array(image)  # Convert PIL Image to NumPy array\n",
    "    face_images.append(image_array)"
   ]
  },
  {
   "cell_type": "code",
   "execution_count": 7,
   "metadata": {},
   "outputs": [],
   "source": [
    "face_images = np.array(face_images)\n",
    "num_images, height, width = face_images.shape  # Adjusted unpacking\n",
    "face_images_flattened = face_images.reshape(num_images, height * width)"
   ]
  },
  {
   "cell_type": "code",
   "execution_count": 8,
   "metadata": {},
   "outputs": [],
   "source": [
    "\n",
    "# Subtract the Mean Face Vector\n",
    "mean_face = np.mean(face_images_flattened, axis=0)\n",
    "centered_face_images = face_images_flattened - mean_face"
   ]
  },
  {
   "cell_type": "code",
   "execution_count": 24,
   "metadata": {
    "scrolled": true
   },
   "outputs": [
    {
     "name": "stdout",
     "output_type": "stream",
     "text": [
      "[[  -58.28064321  3263.43631286]\n",
      " [-4107.6181577  -3880.9944513 ]\n",
      " [-4196.07197296 -2933.07498959]\n",
      " [ 6050.36780804  -560.47858209]\n",
      " [ 4626.72194149  1933.18840033]\n",
      " [-2796.25275475  7523.81796817]\n",
      " [-4563.81939737  -358.3855155 ]\n",
      " [ 4148.93776162  -626.53508713]\n",
      " [ 7818.55941348 -2835.52418451]\n",
      " [-6922.54399865 -1525.44987125]]\n"
     ]
    }
   ],
   "source": [
    "# Apply Randomized PCA\n",
    "k = 2 # Choose the number of principal components (can be adjusted)\n",
    "rpca = PCA(n_components=k, svd_solver='randomized')\n",
    "projected_faces = rpca.fit_transform(centered_face_images)\n",
    "print(projected_faces)"
   ]
  },
  {
   "cell_type": "code",
   "execution_count": null,
   "metadata": {},
   "outputs": [],
   "source": [
    "import numpy as np\n",
    "from sklearn.decomposition import PCA\n",
    "from sklearn.utils import shuffle\n",
    "\n",
    "def mini_batch_pca(X, batch_size, n_components):\n",
    "    # Initialize the running covariance matrix\n",
    "    running_cov = None\n",
    "    \n",
    "    # Iterate over mini-batches\n",
    "    for batch in range(0, len(X), batch_size):\n",
    "        # Randomly select a mini-batch\n",
    "        X_batch = shuffle(X[batch:batch+batch_size])\n",
    "        \n",
    "        # Compute the covariance matrix of the mini-batch\n",
    "        cov_batch = np.cov(X_batch, rowvar=False)\n",
    "        \n",
    "        # Update the running covariance matrix\n",
    "        if running_cov is None:\n",
    "            running_cov = cov_batch\n",
    "        else:\n",
    "            # Update the running covariance matrix by summing the covariance matrices\n",
    "            running_cov += cov_batch\n",
    "    \n",
    "    # Compute the eigenvectors of the running covariance matrix\n",
    "    _, eigenvectors = np.linalg.eigh(running_cov)\n",
    "    \n",
    "    # Select the top-k eigenvectors\n",
    "    top_k_eigenvectors = eigenvectors[:, -n_components:]\n",
    "    \n",
    "    # Project the data onto the selected eigenvectors\n",
    "    projected_data = np.dot(X, top_k_eigenvectors)\n",
    "    \n",
    "    return projected_data\n",
    "\n",
    "# Set the desired batch size and number of principal components (k)\n",
    "batch_size = 100\n",
    "n_components = 20\n",
    "\n",
    "# Apply Mini-Batch PCA\n",
    "projected_data = mini_batch_pca(X, batch_size, n_components)"
   ]
  },
  {
   "cell_type": "code",
   "execution_count": null,
   "metadata": {},
   "outputs": [],
   "source": []
  }
 ],
 "metadata": {
  "kernelspec": {
   "display_name": "Python 3 (ipykernel)",
   "language": "python",
   "name": "python3"
  },
  "language_info": {
   "codemirror_mode": {
    "name": "ipython",
    "version": 3
   },
   "file_extension": ".py",
   "mimetype": "text/x-python",
   "name": "python",
   "nbconvert_exporter": "python",
   "pygments_lexer": "ipython3",
   "version": "3.11.6"
  }
 },
 "nbformat": 4,
 "nbformat_minor": 2
}
